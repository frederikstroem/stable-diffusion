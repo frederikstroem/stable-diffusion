{
 "cells": [
  {
   "cell_type": "markdown",
   "metadata": {},
   "source": [
    "https://huggingface.co/stabilityai/stable-diffusion-2-1"
   ]
  },
  {
   "cell_type": "code",
   "execution_count": null,
   "metadata": {
    "scrolled": true
   },
   "outputs": [],
   "source": [
    "pip install --upgrade git+https://github.com/huggingface/diffusers.git transformers accelerate scipy"
   ]
  },
  {
   "cell_type": "code",
   "execution_count": null,
   "metadata": {},
   "outputs": [],
   "source": [
    "import torch\n",
    "from diffusers import StableDiffusionPipeline, DPMSolverMultistepScheduler\n",
    "from datetime import datetime\n",
    "import random\n",
    "import sys\n",
    "from pathlib import Path\n",
    "from IPython.display import Image, display\n",
    "\n",
    "model_version = \"2-1\"\n",
    "model_id = f\"stabilityai/stable-diffusion-{model_version}\"\n",
    "print(model_id)\n",
    "    \n",
    "for i in range(sys.maxsize):\n",
    "    # Use the DPMSolverMultistepScheduler (DPM-Solver++) scheduler here instead\n",
    "    pipe = StableDiffusionPipeline.from_pretrained(model_id, torch_dtype=torch.float16)\n",
    "    pipe.scheduler = DPMSolverMultistepScheduler.from_config(pipe.scheduler.config)\n",
    "    pipe = pipe.to(\"cuda\")\n",
    "    pipe.enable_attention_slicing()\n",
    "    \n",
    "    seed = random.randint(0, sys.maxsize)\n",
    "\n",
    "    generator = torch.Generator(\"cuda\").manual_seed(seed)\n",
    "    \n",
    "    prompt = None\n",
    "\n",
    "    #\n",
    "    # Settings\n",
    "    #\n",
    "    # START\n",
    "    #\n",
    "    \n",
    "    # Prompts moved to prompts.txt\n",
    "    \n",
    "    # Default: 768 × 768 - Has to be divisible by 8\n",
    "    width = 1216\n",
    "    height = 760\n",
    "    # Values that works great (without running out of memory 😥)\n",
    "    # 960x960: 921 600 pixels\n",
    "    # 1216x760: 924 160 pixels\n",
    "    \n",
    "    # Default: 50\n",
    "    num_inference_steps = 175\n",
    "    \n",
    "    # Default: 7.5 - \"Values between 7 and 8.5 are usually good choices for Stable Diffusion\"\n",
    "    guidance_scale = 7.75\n",
    "    \n",
    "    #\n",
    "    # Settings\n",
    "    #\n",
    "    # END\n",
    "    #\n",
    "    \n",
    "    prompt = random.choice(list(open('prompts.txt'))).rstrip()\n",
    "\n",
    "    image = pipe(prompt, generator=generator, guidance_scale=guidance_scale, num_inference_steps=num_inference_steps, height=height, width=width).images[0]\n",
    "\n",
    "    save_dir = Path(\"stable-diffusion-art/{}\".format(prompt.replace(\" \", \"_\")))\n",
    "    save_dir.mkdir(parents=True, exist_ok=True)\n",
    "    \n",
    "    # datetime object containing current date and time\n",
    "    now = datetime.now()\n",
    "    \n",
    "    save_path = \"{}/{}_{}x{}_i{}_g{}_s{}_v{}.png\".format(str(save_dir), prompt.replace(\" \", \"_\"), width, height, num_inference_steps, guidance_scale, seed, model_version) \n",
    "    \n",
    "    image.save(save_path)\n",
    "    \n",
    "    display(Image(filename=save_path))"
   ]
  }
 ],
 "metadata": {
  "kernelspec": {
   "display_name": "Python 3",
   "language": "python",
   "name": "python3"
  },
  "language_info": {
   "codemirror_mode": {
    "name": "ipython",
    "version": 3
   },
   "file_extension": ".py",
   "mimetype": "text/x-python",
   "name": "python",
   "nbconvert_exporter": "python",
   "pygments_lexer": "ipython3",
   "version": "3.10.8 (main, Nov  1 2022, 14:18:21) [GCC 12.2.0]"
  },
  "vscode": {
   "interpreter": {
    "hash": "e7370f93d1d0cde622a1f8e1c04877d8463912d04d973331ad4851f04de6915a"
   }
  }
 },
 "nbformat": 4,
 "nbformat_minor": 2
}
